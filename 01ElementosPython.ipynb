{
  "nbformat": 4,
  "nbformat_minor": 0,
  "metadata": {
    "colab": {
      "name": "01ElementosPython.ipynb",
      "provenance": [],
      "authorship_tag": "ABX9TyMYyBPIYc6jgLMk2XBxMfxF",
      "include_colab_link": true
    },
    "kernelspec": {
      "name": "python3",
      "display_name": "Python 3"
    },
    "language_info": {
      "name": "python"
    }
  },
  "cells": [
    {
      "cell_type": "markdown",
      "metadata": {
        "id": "view-in-github",
        "colab_type": "text"
      },
      "source": [
        "<a href=\"https://colab.research.google.com/github/JulioGoS/Tratamiento-de-datos-con-Python/blob/main/01ElementosPython.ipynb\" target=\"_parent\"><img src=\"https://colab.research.google.com/assets/colab-badge.svg\" alt=\"Open In Colab\"/></a>"
      ]
    },
    {
      "cell_type": "code",
      "execution_count": null,
      "metadata": {
        "id": "zqasw9LLhBiN"
      },
      "outputs": [],
      "source": [
        ""
      ]
    },
    {
      "cell_type": "markdown",
      "source": [
        "**Tratamiento de Datos de Python**\n",
        "[*FES Aragon*]\n",
        "# Curso intersemestral\n",
        "## ICO\n",
        "### Tratamiento de datos\n"
      ],
      "metadata": {
        "id": "nSxYGi3ghw0_"
      }
    },
    {
      "cell_type": "code",
      "source": [
        "# Serie de fibonacci\n",
        "a = 0\n",
        "print(a)\n",
        "b=1\n",
        "print(b)\n",
        "\n",
        "for _ in range(12):\n",
        "  r = a+b\n",
        "  a = b\n",
        "  b = r\n",
        "  print(r)"
      ],
      "metadata": {
        "colab": {
          "base_uri": "https://localhost:8080/"
        },
        "id": "nH19sXWWi-4x",
        "outputId": "d2605d1f-3ead-4031-b617-28c51aeeee4e"
      },
      "execution_count": null,
      "outputs": [
        {
          "output_type": "stream",
          "name": "stdout",
          "text": [
            "0\n",
            "1\n",
            "1\n",
            "2\n",
            "3\n",
            "5\n",
            "8\n",
            "13\n",
            "21\n",
            "34\n",
            "55\n",
            "89\n",
            "144\n",
            "233\n"
          ]
        }
      ]
    },
    {
      "cell_type": "code",
      "source": [
        "palabra = 'Datos'\n",
        "for letra in palabra:\n",
        "  print(letra)\n",
        "  if letra == 't':\n",
        "    break"
      ],
      "metadata": {
        "colab": {
          "base_uri": "https://localhost:8080/"
        },
        "id": "sNd6Rbcrjz7d",
        "outputId": "7cd86ac3-046b-4494-9b49-23654e9e47da"
      },
      "execution_count": null,
      "outputs": [
        {
          "output_type": "stream",
          "name": "stdout",
          "text": [
            "D\n",
            "a\n",
            "t\n"
          ]
        }
      ]
    },
    {
      "cell_type": "code",
      "source": [
        "#Ciclos anidados\n",
        "for i in range(1,11):\n",
        "  print(f'Tabla del {i}:')\n",
        "  for j in range(1,11):\n",
        "    r = i*j\n",
        "    print(f'{i}*{j}={r}')\n",
        "  print(' ')"
      ],
      "metadata": {
        "colab": {
          "base_uri": "https://localhost:8080/"
        },
        "id": "8AFpU74gkY9b",
        "outputId": "2a4fc37b-70b9-4a02-d58f-f1ae915cceb5"
      },
      "execution_count": null,
      "outputs": [
        {
          "output_type": "stream",
          "name": "stdout",
          "text": [
            "Tabla del 1:\n",
            "1*1=1\n",
            "1*2=2\n",
            "1*3=3\n",
            "1*4=4\n",
            "1*5=5\n",
            "1*6=6\n",
            "1*7=7\n",
            "1*8=8\n",
            "1*9=9\n",
            "1*10=10\n",
            " \n",
            "Tabla del 2:\n",
            "2*1=2\n",
            "2*2=4\n",
            "2*3=6\n",
            "2*4=8\n",
            "2*5=10\n",
            "2*6=12\n",
            "2*7=14\n",
            "2*8=16\n",
            "2*9=18\n",
            "2*10=20\n",
            " \n",
            "Tabla del 3:\n",
            "3*1=3\n",
            "3*2=6\n",
            "3*3=9\n",
            "3*4=12\n",
            "3*5=15\n",
            "3*6=18\n",
            "3*7=21\n",
            "3*8=24\n",
            "3*9=27\n",
            "3*10=30\n",
            " \n",
            "Tabla del 4:\n",
            "4*1=4\n",
            "4*2=8\n",
            "4*3=12\n",
            "4*4=16\n",
            "4*5=20\n",
            "4*6=24\n",
            "4*7=28\n",
            "4*8=32\n",
            "4*9=36\n",
            "4*10=40\n",
            " \n",
            "Tabla del 5:\n",
            "5*1=5\n",
            "5*2=10\n",
            "5*3=15\n",
            "5*4=20\n",
            "5*5=25\n",
            "5*6=30\n",
            "5*7=35\n",
            "5*8=40\n",
            "5*9=45\n",
            "5*10=50\n",
            " \n",
            "Tabla del 6:\n",
            "6*1=6\n",
            "6*2=12\n",
            "6*3=18\n",
            "6*4=24\n",
            "6*5=30\n",
            "6*6=36\n",
            "6*7=42\n",
            "6*8=48\n",
            "6*9=54\n",
            "6*10=60\n",
            " \n",
            "Tabla del 7:\n",
            "7*1=7\n",
            "7*2=14\n",
            "7*3=21\n",
            "7*4=28\n",
            "7*5=35\n",
            "7*6=42\n",
            "7*7=49\n",
            "7*8=56\n",
            "7*9=63\n",
            "7*10=70\n",
            " \n",
            "Tabla del 8:\n",
            "8*1=8\n",
            "8*2=16\n",
            "8*3=24\n",
            "8*4=32\n",
            "8*5=40\n",
            "8*6=48\n",
            "8*7=56\n",
            "8*8=64\n",
            "8*9=72\n",
            "8*10=80\n",
            " \n",
            "Tabla del 9:\n",
            "9*1=9\n",
            "9*2=18\n",
            "9*3=27\n",
            "9*4=36\n",
            "9*5=45\n",
            "9*6=54\n",
            "9*7=63\n",
            "9*8=72\n",
            "9*9=81\n",
            "9*10=90\n",
            " \n",
            "Tabla del 10:\n",
            "10*1=10\n",
            "10*2=20\n",
            "10*3=30\n",
            "10*4=40\n",
            "10*5=50\n",
            "10*6=60\n",
            "10*7=70\n",
            "10*8=80\n",
            "10*9=90\n",
            "10*10=100\n",
            " \n"
          ]
        }
      ]
    },
    {
      "cell_type": "code",
      "source": [
        "from typing import no_type_check\n",
        "VOCALES = 'aeiou'\n",
        "frase = 'SupercAlifragilisticoespialidoso'\n",
        "\n",
        "no_vocales = 0\n",
        "for letra in frase.lower():\n",
        "  if letra in VOCALES:\n",
        "    no_vocales +=1\n",
        "print(no_vocales)    \n"
      ],
      "metadata": {
        "colab": {
          "base_uri": "https://localhost:8080/"
        },
        "id": "FBL8VYN7lVYz",
        "outputId": "be002296-8286-4c13-9d3b-9dc08d5360ad"
      },
      "execution_count": null,
      "outputs": [
        {
          "output_type": "stream",
          "name": "stdout",
          "text": [
            "15\n"
          ]
        }
      ]
    },
    {
      "cell_type": "code",
      "source": [
        "#Listas\n",
        "\n",
        "compra = ['Agua', 'Huevos', 'Aceite', 'Sal', 'Limón']\n",
        "detalle = ['mineral natural', 'organicos', 'de oliva virgen', 'de mar', 'verde']\n",
        "\n",
        "for prodcuto in compra:\n",
        "  print(prodcuto)\n",
        "\n",
        "#Enumerad\n",
        "\n",
        "for i, producto in enumerate(compra):\n",
        "  print(i, producto)\n",
        "\n",
        "#zip\n",
        "for producto, detail in zip(compra, detalle):\n",
        "  print(prodcuto, detail )\n",
        "print(list(zip(compra, detalle)))\n"
      ],
      "metadata": {
        "colab": {
          "base_uri": "https://localhost:8080/"
        },
        "id": "Uhz9-yvymVwE",
        "outputId": "2bff1353-447a-431b-e9d6-3765abb821eb"
      },
      "execution_count": null,
      "outputs": [
        {
          "output_type": "stream",
          "name": "stdout",
          "text": [
            "Agua\n",
            "Huevos\n",
            "Aceite\n",
            "Sal\n",
            "Limón\n",
            "0 Agua\n",
            "1 Huevos\n",
            "2 Aceite\n",
            "3 Sal\n",
            "4 Limón\n",
            "Limón mineral natural\n",
            "Limón organicos\n",
            "Limón de oliva virgen\n",
            "Limón de mar\n",
            "Limón verde\n",
            "[('Agua', 'mineral natural'), ('Huevos', 'organicos'), ('Aceite', 'de oliva virgen'), ('Sal', 'de mar'), ('Limón', 'verde')]\n"
          ]
        }
      ]
    },
    {
      "cell_type": "code",
      "source": [
        "valores = '32,45,11,87,20,48'\n",
        "lista_valores = []\n",
        "for valor in valores.split(','):\n",
        "  lista_valores.append(int(valor))\n",
        "print(lista_valores)"
      ],
      "metadata": {
        "colab": {
          "base_uri": "https://localhost:8080/"
        },
        "id": "eurSvg_sn9Pk",
        "outputId": "e1b82af0-b3cf-4c29-f56b-2aa42a4ad540"
      },
      "execution_count": null,
      "outputs": [
        {
          "output_type": "stream",
          "name": "stdout",
          "text": [
            "[32, 45, 11, 87, 20, 48]\n"
          ]
        }
      ]
    },
    {
      "cell_type": "code",
      "source": [
        "lista_enteros = [int(valor) for valor in valores.split(',')]\n",
        "print(lista_valores)"
      ],
      "metadata": {
        "colab": {
          "base_uri": "https://localhost:8080/"
        },
        "id": "jxy29ATFoiki",
        "outputId": "929a1eec-bf2e-413c-d811-11c70a24f7c9"
      },
      "execution_count": null,
      "outputs": [
        {
          "output_type": "stream",
          "name": "stdout",
          "text": [
            "[32, 45, 11, 87, 20, 48]\n"
          ]
        }
      ]
    },
    {
      "cell_type": "code",
      "source": [
        "lista = ['pan', 'jamon', 100, 123.45]\n",
        "print(lista)\n",
        "print(lista[0])"
      ],
      "metadata": {
        "colab": {
          "base_uri": "https://localhost:8080/"
        },
        "id": "ued5Y-85o9NO",
        "outputId": "9c24d7f9-cb23-42a1-a9a6-a82eedc1b048"
      },
      "execution_count": null,
      "outputs": [
        {
          "output_type": "stream",
          "name": "stdout",
          "text": [
            "['pan', 'jamon', 100, 123.45]\n",
            "pan\n"
          ]
        }
      ]
    },
    {
      "cell_type": "code",
      "source": [
        "lista.append('jugo')"
      ],
      "metadata": {
        "id": "hoTwibWNptlq"
      },
      "execution_count": null,
      "outputs": []
    },
    {
      "cell_type": "code",
      "source": [
        "lista"
      ],
      "metadata": {
        "colab": {
          "base_uri": "https://localhost:8080/"
        },
        "id": "2iCaqTRSpzah",
        "outputId": "f4ee1dd6-d92a-48af-80c2-f1f3f8ed98e5"
      },
      "execution_count": null,
      "outputs": [
        {
          "output_type": "execute_result",
          "data": {
            "text/plain": [
              "['pan', 'jamon', 100, 123.45, 'jugo']"
            ]
          },
          "metadata": {},
          "execution_count": 21
        }
      ]
    },
    {
      "cell_type": "code",
      "source": [
        "lista.count(100)"
      ],
      "metadata": {
        "id": "rz3Nbhv8p3F6"
      },
      "execution_count": null,
      "outputs": []
    },
    {
      "cell_type": "code",
      "source": [
        "lista.extend([40,'cebolla',10])\n",
        "lista"
      ],
      "metadata": {
        "colab": {
          "base_uri": "https://localhost:8080/"
        },
        "id": "-Jjh8c_1qGQJ",
        "outputId": "b87e447f-01b5-4fa9-859d-304f56e47c3f"
      },
      "execution_count": null,
      "outputs": [
        {
          "output_type": "execute_result",
          "data": {
            "text/plain": [
              "['pan', 'jamon', 100, 123.45, 'jugo', 40, 'cebolla', 10]"
            ]
          },
          "metadata": {},
          "execution_count": 22
        }
      ]
    },
    {
      "cell_type": "code",
      "source": [
        "lista.append(['tocino',90])\n",
        "lista\n"
      ],
      "metadata": {
        "colab": {
          "base_uri": "https://localhost:8080/"
        },
        "id": "EjepTsFMqO6C",
        "outputId": "687aad12-687c-4179-c00f-e1354b6f6cf0"
      },
      "execution_count": null,
      "outputs": [
        {
          "output_type": "execute_result",
          "data": {
            "text/plain": [
              "['pan', 'jamon', 100, 123.45, 'jugo', 40, 'cebolla', 10, ['tocino', 90]]"
            ]
          },
          "metadata": {},
          "execution_count": 23
        }
      ]
    },
    {
      "cell_type": "code",
      "source": [
        "lista.extend(range(500,505))\n",
        "lista"
      ],
      "metadata": {
        "colab": {
          "base_uri": "https://localhost:8080/"
        },
        "id": "RDkOMVUjqkMx",
        "outputId": "bb09f44a-4299-4378-d460-0b539b12fc14"
      },
      "execution_count": null,
      "outputs": [
        {
          "output_type": "execute_result",
          "data": {
            "text/plain": [
              "['pan',\n",
              " 'jamon',\n",
              " 100,\n",
              " 123.45,\n",
              " 'jugo',\n",
              " 40,\n",
              " 'cebolla',\n",
              " 10,\n",
              " ['tocino', 90],\n",
              " 500,\n",
              " 501,\n",
              " 502,\n",
              " 503,\n",
              " 504]"
            ]
          },
          "metadata": {},
          "execution_count": 24
        }
      ]
    },
    {
      "cell_type": "code",
      "source": [
        "lista.index(500)"
      ],
      "metadata": {
        "colab": {
          "base_uri": "https://localhost:8080/"
        },
        "id": "J3BOkDCUqx9y",
        "outputId": "13dbd175-2b77-4773-8da4-ef8b36003428"
      },
      "execution_count": null,
      "outputs": [
        {
          "output_type": "execute_result",
          "data": {
            "text/plain": [
              "9"
            ]
          },
          "metadata": {},
          "execution_count": 26
        }
      ]
    },
    {
      "cell_type": "code",
      "source": [
        "lista.insert(3,'mostaza')\n",
        "lista"
      ],
      "metadata": {
        "colab": {
          "base_uri": "https://localhost:8080/"
        },
        "id": "PH_nccZFq38p",
        "outputId": "b7765c1f-f110-4fe5-b103-7a2b042b3a85"
      },
      "execution_count": null,
      "outputs": [
        {
          "output_type": "execute_result",
          "data": {
            "text/plain": [
              "['pan',\n",
              " 'jamon',\n",
              " 100,\n",
              " 'mostaza',\n",
              " 123.45,\n",
              " 'jugo',\n",
              " 40,\n",
              " 'cebolla',\n",
              " 10,\n",
              " ['tocino', 90],\n",
              " 500,\n",
              " 501,\n",
              " 502,\n",
              " 503,\n",
              " 504]"
            ]
          },
          "metadata": {},
          "execution_count": 27
        }
      ]
    },
    {
      "cell_type": "code",
      "source": [
        "lista[0]='pan integral'\n",
        "lista"
      ],
      "metadata": {
        "colab": {
          "base_uri": "https://localhost:8080/"
        },
        "id": "cElSlcSjrXuJ",
        "outputId": "ed18a548-3c1c-45ac-d573-f7cb25131315"
      },
      "execution_count": null,
      "outputs": [
        {
          "output_type": "execute_result",
          "data": {
            "text/plain": [
              "['pan integral',\n",
              " 'jamon',\n",
              " 100,\n",
              " 'mostaza',\n",
              " 123.45,\n",
              " 'jugo',\n",
              " 40,\n",
              " 'cebolla',\n",
              " 10,\n",
              " ['tocino', 90],\n",
              " 500,\n",
              " 501,\n",
              " 502,\n",
              " 503,\n",
              " 504]"
            ]
          },
          "metadata": {},
          "execution_count": 28
        }
      ]
    },
    {
      "cell_type": "code",
      "source": [
        "lista[4:10]"
      ],
      "metadata": {
        "colab": {
          "base_uri": "https://localhost:8080/"
        },
        "id": "yIr4qwKSr_Qp",
        "outputId": "40942a3e-196d-4139-e542-9ff3035df4f7"
      },
      "execution_count": null,
      "outputs": [
        {
          "output_type": "execute_result",
          "data": {
            "text/plain": [
              "[123.45, 'jugo', 40, 'cebolla', 10, ['tocino', 90]]"
            ]
          },
          "metadata": {},
          "execution_count": 30
        }
      ]
    },
    {
      "cell_type": "code",
      "source": [
        "lista[:]"
      ],
      "metadata": {
        "colab": {
          "base_uri": "https://localhost:8080/"
        },
        "id": "SDQbOZHervrp",
        "outputId": "a581da3f-4a26-4ec9-81a2-4df2bb2b8c5e"
      },
      "execution_count": null,
      "outputs": [
        {
          "output_type": "execute_result",
          "data": {
            "text/plain": [
              "['pan integral',\n",
              " 'jamon',\n",
              " 100,\n",
              " 'mostaza',\n",
              " 123.45,\n",
              " 'jugo',\n",
              " 40,\n",
              " 'cebolla',\n",
              " 10,\n",
              " ['tocino', 90],\n",
              " 500,\n",
              " 501,\n",
              " 502,\n",
              " 503,\n",
              " 504]"
            ]
          },
          "metadata": {},
          "execution_count": 29
        }
      ]
    },
    {
      "cell_type": "code",
      "source": [
        "lista[::-1]"
      ],
      "metadata": {
        "colab": {
          "base_uri": "https://localhost:8080/"
        },
        "id": "PZImw2kXsEfh",
        "outputId": "397ea10f-35f9-4dd8-8717-20e75c0f1a11"
      },
      "execution_count": null,
      "outputs": [
        {
          "output_type": "execute_result",
          "data": {
            "text/plain": [
              "[504,\n",
              " 503,\n",
              " 502,\n",
              " 501,\n",
              " 500,\n",
              " ['tocino', 90],\n",
              " 10,\n",
              " 'cebolla',\n",
              " 40,\n",
              " 'jugo',\n",
              " 123.45,\n",
              " 'mostaza',\n",
              " 100,\n",
              " 'jamon',\n",
              " 'pan integral']"
            ]
          },
          "metadata": {},
          "execution_count": 31
        }
      ]
    },
    {
      "cell_type": "code",
      "source": [
        "#Crear un alias de lista\n",
        "lista2=lista\n",
        "print(lista)\n",
        "print(lista2)"
      ],
      "metadata": {
        "colab": {
          "base_uri": "https://localhost:8080/"
        },
        "id": "A3LJRKN-sYLZ",
        "outputId": "715bd68e-745e-419d-f5a5-680c3c65a708"
      },
      "execution_count": null,
      "outputs": [
        {
          "output_type": "stream",
          "name": "stdout",
          "text": [
            "['pan integral', 'jamon', 100, 'mostaza', 123.45, 'jugo', 40, 'cebolla', 10, ['tocino', 90], 500, 501, 502, 503, 504]\n",
            "['pan integral', 'jamon', 100, 'mostaza', 123.45, 'jugo', 40, 'cebolla', 10, ['tocino', 90], 500, 501, 502, 503, 504]\n"
          ]
        }
      ]
    },
    {
      "cell_type": "code",
      "source": [
        "lista[1] = 'tocino'\n",
        "print(lista)\n",
        "print(lista2)"
      ],
      "metadata": {
        "colab": {
          "base_uri": "https://localhost:8080/"
        },
        "id": "LKj8tjqSsfrr",
        "outputId": "3b12a24b-d088-4bd6-ea92-c586ff6f89a4"
      },
      "execution_count": null,
      "outputs": [
        {
          "output_type": "stream",
          "name": "stdout",
          "text": [
            "['pan integral', 'tocino', 100, 'mostaza', 123.45, 'jugo', 40, 'cebolla', 10, ['tocino', 90], 500, 501, 502, 503, 504]\n",
            "['pan integral', 'tocino', 100, 'mostaza', 123.45, 'jugo', 40, 'cebolla', 10, ['tocino', 90], 500, 501, 502, 503, 504]\n"
          ]
        }
      ]
    },
    {
      "cell_type": "code",
      "source": [
        "lista2[3] = 'mayonesa'\n",
        "print(lista)\n",
        "print(lista2)"
      ],
      "metadata": {
        "colab": {
          "base_uri": "https://localhost:8080/"
        },
        "id": "Iyh0WUAAswcz",
        "outputId": "9f8951be-735e-4b62-fa5a-4728ced228ca"
      },
      "execution_count": null,
      "outputs": [
        {
          "output_type": "stream",
          "name": "stdout",
          "text": [
            "['pan integral', 'tocino', 100, 'mayonesa', 123.45, 'agua', 40, 'cebolla', 10, ['tocino', 90], 500, 501, 502, 503, 504]\n",
            "['pan integral', 'tocino', 100, 'mayonesa', 123.45, 'agua', 40, 'cebolla', 10, ['tocino', 90], 500, 501, 502, 503, 504]\n"
          ]
        }
      ]
    },
    {
      "cell_type": "code",
      "source": [
        "#Crear un copia\n",
        "\n",
        "lista3 = lista[:]"
      ],
      "metadata": {
        "id": "pTaZicWIs50i"
      },
      "execution_count": null,
      "outputs": []
    },
    {
      "cell_type": "code",
      "source": [
        "lista[5] = 'agua'\n",
        "print(lista)\n",
        "print(lista2)\n",
        "print(lista3)"
      ],
      "metadata": {
        "colab": {
          "base_uri": "https://localhost:8080/"
        },
        "id": "YTkpSFk9tKkb",
        "outputId": "1d994c05-e737-4786-d6f5-c156555bc657"
      },
      "execution_count": null,
      "outputs": [
        {
          "output_type": "stream",
          "name": "stdout",
          "text": [
            "['pan integral', 'tocino', 100, 'mayonesa', 123.45, 'agua', 40, 'cebolla', 10, ['tocino', 90], 500, 501, 502, 503, 504]\n",
            "['pan integral', 'tocino', 100, 'mayonesa', 123.45, 'agua', 40, 'cebolla', 10, ['tocino', 90], 500, 501, 502, 503, 504]\n",
            "['pan integral', 'tocino', 100, 'mayonesa', 123.45, 'agua', 40, 'cebolla', 10, ['tocino', 90], 500, 501, 502, 503, 504]\n"
          ]
        }
      ]
    },
    {
      "cell_type": "code",
      "source": [
        "lista4 = lista + lista3\n",
        "lista4"
      ],
      "metadata": {
        "colab": {
          "base_uri": "https://localhost:8080/"
        },
        "id": "aaqb3b-Wtip7",
        "outputId": "96b05225-b15e-4468-ddf4-eaceecce03a3"
      },
      "execution_count": null,
      "outputs": [
        {
          "output_type": "execute_result",
          "data": {
            "text/plain": [
              "['pan integral',\n",
              " 'tocino',\n",
              " 100,\n",
              " 'mayonesa',\n",
              " 123.45,\n",
              " 'agua',\n",
              " 40,\n",
              " 'cebolla',\n",
              " 10,\n",
              " ['tocino', 90],\n",
              " 500,\n",
              " 501,\n",
              " 502,\n",
              " 503,\n",
              " 504,\n",
              " 'pan integral',\n",
              " 'tocino',\n",
              " 100,\n",
              " 'mayonesa',\n",
              " 123.45,\n",
              " 'agua',\n",
              " 40,\n",
              " 'cebolla',\n",
              " 10,\n",
              " ['tocino', 90],\n",
              " 500,\n",
              " 501,\n",
              " 502,\n",
              " 503,\n",
              " 504]"
            ]
          },
          "metadata": {},
          "execution_count": 41
        }
      ]
    },
    {
      "cell_type": "code",
      "source": [
        "lista_cursos = ['Python', 'Ciencia de datos', 'Big Data', 'Python', 'Base de datos']\n",
        "lista_cursos"
      ],
      "metadata": {
        "colab": {
          "base_uri": "https://localhost:8080/"
        },
        "id": "cVfyH66Ntx4a",
        "outputId": "07fae21c-385a-4277-d3b7-0408486015ac"
      },
      "execution_count": null,
      "outputs": [
        {
          "output_type": "execute_result",
          "data": {
            "text/plain": [
              "['Python', 'Ciencia de datos', 'Big Data', 'Python', 'Base de datos']"
            ]
          },
          "metadata": {},
          "execution_count": 42
        }
      ]
    },
    {
      "cell_type": "code",
      "source": [
        "set_cursos = set(lista_cursos)\n",
        "set_cursos"
      ],
      "metadata": {
        "colab": {
          "base_uri": "https://localhost:8080/"
        },
        "id": "kFPZqgOot844",
        "outputId": "b893ae98-5714-4094-b6aa-a43eb87a0ec9"
      },
      "execution_count": null,
      "outputs": [
        {
          "output_type": "execute_result",
          "data": {
            "text/plain": [
              "{'Base de datos', 'Big Data', 'Ciencia de datos', 'Python'}"
            ]
          },
          "metadata": {},
          "execution_count": 43
        }
      ]
    },
    {
      "cell_type": "code",
      "source": [
        "set_cursos2 = set(['Python','Pandas','Mineria','Base de datos'])\n",
        "set_cursos2"
      ],
      "metadata": {
        "colab": {
          "base_uri": "https://localhost:8080/"
        },
        "id": "tr8XeF5puh-h",
        "outputId": "502d277e-171a-4730-b48b-431eae457958"
      },
      "execution_count": null,
      "outputs": [
        {
          "output_type": "execute_result",
          "data": {
            "text/plain": [
              "{'Base de datos', 'Mineria', 'Pandas', 'Python'}"
            ]
          },
          "metadata": {},
          "execution_count": 44
        }
      ]
    },
    {
      "cell_type": "code",
      "source": [
        "set_cursos.union(set_cursos2)"
      ],
      "metadata": {
        "colab": {
          "base_uri": "https://localhost:8080/"
        },
        "id": "u6ATcKNHu6Tp",
        "outputId": "5196cee6-02f2-449f-9f4c-ab9acaa4f4db"
      },
      "execution_count": null,
      "outputs": [
        {
          "output_type": "execute_result",
          "data": {
            "text/plain": [
              "{'Base de datos',\n",
              " 'Big Data',\n",
              " 'Ciencia de datos',\n",
              " 'Mineria',\n",
              " 'Pandas',\n",
              " 'Python'}"
            ]
          },
          "metadata": {},
          "execution_count": 45
        }
      ]
    },
    {
      "cell_type": "code",
      "source": [
        "set_cursos.intersection(set_cursos2)"
      ],
      "metadata": {
        "colab": {
          "base_uri": "https://localhost:8080/"
        },
        "id": "fiAY43ZVvAl5",
        "outputId": "b985eb09-0694-4098-ddf1-f4c8c9325443"
      },
      "execution_count": null,
      "outputs": [
        {
          "output_type": "execute_result",
          "data": {
            "text/plain": [
              "{'Base de datos', 'Python'}"
            ]
          },
          "metadata": {},
          "execution_count": 46
        }
      ]
    },
    {
      "cell_type": "code",
      "source": [
        "set_cursos.difference(set_cursos2)"
      ],
      "metadata": {
        "colab": {
          "base_uri": "https://localhost:8080/"
        },
        "id": "yq2nGictvHm7",
        "outputId": "95878259-78a4-4f2d-ad16-185348eabe0c"
      },
      "execution_count": null,
      "outputs": [
        {
          "output_type": "execute_result",
          "data": {
            "text/plain": [
              "{'Big Data', 'Ciencia de datos'}"
            ]
          },
          "metadata": {},
          "execution_count": 47
        }
      ]
    },
    {
      "cell_type": "code",
      "source": [
        "set_cursos.union(set_cursos2)"
      ],
      "metadata": {
        "colab": {
          "base_uri": "https://localhost:8080/"
        },
        "id": "6K1UjbgIveMQ",
        "outputId": "872643b9-f770-486a-9f73-298a3049ff7f"
      },
      "execution_count": null,
      "outputs": [
        {
          "output_type": "execute_result",
          "data": {
            "text/plain": [
              "{'Base de datos',\n",
              " 'Big Data',\n",
              " 'Ciencia de datos',\n",
              " 'Mineria',\n",
              " 'Pandas',\n",
              " 'Python'}"
            ]
          },
          "metadata": {},
          "execution_count": 48
        }
      ]
    },
    {
      "cell_type": "code",
      "source": [
        "diccionario = {'nombre' : 'Juan', 'edad' : 22, 'cursos': ['Python','Ciencia de datos','Big Data'] }\n",
        "diccionario"
      ],
      "metadata": {
        "colab": {
          "base_uri": "https://localhost:8080/"
        },
        "id": "jlWhIPe4vmrl",
        "outputId": "7e2d39d6-0d6f-4e33-ec34-601dd4254769"
      },
      "execution_count": null,
      "outputs": [
        {
          "output_type": "execute_result",
          "data": {
            "text/plain": [
              "{'cursos': ['Python', 'Ciencia de datos', 'Big Data'],\n",
              " 'edad': 22,\n",
              " 'nombre': 'Juan'}"
            ]
          },
          "metadata": {},
          "execution_count": 49
        }
      ]
    },
    {
      "cell_type": "code",
      "source": [
        "diccionario['cursos']"
      ],
      "metadata": {
        "colab": {
          "base_uri": "https://localhost:8080/"
        },
        "id": "Vbu0ldRov4dR",
        "outputId": "4dc591a3-5037-42a5-87c3-e41a1588280f"
      },
      "execution_count": null,
      "outputs": [
        {
          "output_type": "execute_result",
          "data": {
            "text/plain": [
              "['Python', 'Ciencia de datos', 'Big Data']"
            ]
          },
          "metadata": {},
          "execution_count": 50
        }
      ]
    },
    {
      "cell_type": "code",
      "source": [
        "for c in diccionario['cursos']:\n",
        "  print(c)"
      ],
      "metadata": {
        "colab": {
          "base_uri": "https://localhost:8080/"
        },
        "id": "CEF_9DPKv8n6",
        "outputId": "a27d4e26-7d65-48cb-ad95-9908d9519d06"
      },
      "execution_count": null,
      "outputs": [
        {
          "output_type": "stream",
          "name": "stdout",
          "text": [
            "Python\n",
            "Ciencia de datos\n",
            "Big Data\n"
          ]
        }
      ]
    },
    {
      "cell_type": "code",
      "source": [
        "#Llaves de diccionario\n",
        "\n",
        "for k in diccionario.keys():\n",
        "  print(k)"
      ],
      "metadata": {
        "colab": {
          "base_uri": "https://localhost:8080/"
        },
        "id": "JGj_3pldwEFJ",
        "outputId": "31a950fc-18dd-4d5f-e02a-2431cb9123d3"
      },
      "execution_count": null,
      "outputs": [
        {
          "output_type": "stream",
          "name": "stdout",
          "text": [
            "nombre\n",
            "edad\n",
            "cursos\n"
          ]
        }
      ]
    },
    {
      "cell_type": "code",
      "source": [
        "#Valores de diccionario\n",
        "for v in diccionario.values():\n",
        "  print(v)"
      ],
      "metadata": {
        "colab": {
          "base_uri": "https://localhost:8080/"
        },
        "id": "zgGdWG_-wV0q",
        "outputId": "f5a090ca-b2e7-4e24-df91-6cfd8105c833"
      },
      "execution_count": null,
      "outputs": [
        {
          "output_type": "stream",
          "name": "stdout",
          "text": [
            "Juan\n",
            "22\n",
            "['Python', 'Ciencia de datos', 'Big Data']\n"
          ]
        }
      ]
    },
    {
      "cell_type": "code",
      "source": [
        "#Items de diccionario\n",
        "for i in diccionario.items():\n",
        "  print(i)"
      ],
      "metadata": {
        "colab": {
          "base_uri": "https://localhost:8080/"
        },
        "id": "UGSa7Zn-wgqr",
        "outputId": "52108cb8-350a-4ff6-c31d-0e5c9e30cab9"
      },
      "execution_count": null,
      "outputs": [
        {
          "output_type": "stream",
          "name": "stdout",
          "text": [
            "('nombre', 'Juan')\n",
            "('edad', 22)\n",
            "('cursos', ['Python', 'Ciencia de datos', 'Big Data'])\n"
          ]
        }
      ]
    },
    {
      "cell_type": "code",
      "source": [
        "datos = ('Tokyo:38140000;Delhi:26454000;Shanghai:24484000;'\n",
        "    'Mumbai:21357000;São Paulo:21297000;CDMX:24800000'\n",
        ")\n",
        "datos"
      ],
      "metadata": {
        "colab": {
          "base_uri": "https://localhost:8080/",
          "height": 55
        },
        "id": "U4jH4Fuk0OsS",
        "outputId": "4745c380-2c8a-4309-b490-90932d1b2390"
      },
      "execution_count": null,
      "outputs": [
        {
          "output_type": "execute_result",
          "data": {
            "text/plain": [
              "'Tokyo:38140000;Delhi:26454000;Shanghai:24484000;Mumbai:21357000;São Paulo:21297000;CDMX:24800000'"
            ],
            "application/vnd.google.colaboratory.intrinsic+json": {
              "type": "string"
            }
          },
          "metadata": {},
          "execution_count": 57
        }
      ]
    },
    {
      "cell_type": "code",
      "source": [
        "ciudades = {}\n",
        "for r in datos.split(';'):\n",
        "  ciudad, poblacion = r.split(':')\n",
        "  ciudades[ciudad] = int(poblacion)\n",
        "ciudades"
      ],
      "metadata": {
        "colab": {
          "base_uri": "https://localhost:8080/"
        },
        "id": "5TMHo7O_0Vnq",
        "outputId": "7f5b4252-8d37-470b-e94b-1d5946923a6d"
      },
      "execution_count": null,
      "outputs": [
        {
          "output_type": "execute_result",
          "data": {
            "text/plain": [
              "{'CDMX': 24800000,\n",
              " 'Delhi': 26454000,\n",
              " 'Mumbai': 21357000,\n",
              " 'Shanghai': 24484000,\n",
              " 'São Paulo': 21297000,\n",
              " 'Tokyo': 38140000}"
            ]
          },
          "metadata": {},
          "execution_count": 58
        }
      ]
    }
  ]
}