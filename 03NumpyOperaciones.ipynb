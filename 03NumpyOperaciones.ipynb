{
  "nbformat": 4,
  "nbformat_minor": 0,
  "metadata": {
    "colab": {
      "name": "03NumpyOperaciones.ipynb",
      "provenance": [],
      "authorship_tag": "ABX9TyNLCDfvS6+aNhL3p3eDmXXs",
      "include_colab_link": true
    },
    "kernelspec": {
      "name": "python3",
      "display_name": "Python 3"
    },
    "language_info": {
      "name": "python"
    }
  },
  "cells": [
    {
      "cell_type": "markdown",
      "metadata": {
        "id": "view-in-github",
        "colab_type": "text"
      },
      "source": [
        "<a href=\"https://colab.research.google.com/github/JulioGoS/Tratamiento-de-datos-con-Python/blob/main/03NumpyOperaciones.ipynb\" target=\"_parent\"><img src=\"https://colab.research.google.com/assets/colab-badge.svg\" alt=\"Open In Colab\"/></a>"
      ]
    },
    {
      "cell_type": "code",
      "execution_count": 1,
      "metadata": {
        "id": "3GKX4Uj43nrs"
      },
      "outputs": [],
      "source": [
        "import numpy as np\n"
      ]
    },
    {
      "cell_type": "code",
      "source": [
        "m1 = np.array([[1,2,3],\n",
        "              [10,11,12],\n",
        "              [-5,-8,-14]])\n",
        "m1"
      ],
      "metadata": {
        "colab": {
          "base_uri": "https://localhost:8080/"
        },
        "id": "7Q6ktgnl3wx6",
        "outputId": "6d735500-f045-4f24-c9fd-5edb769e9d75"
      },
      "execution_count": 3,
      "outputs": [
        {
          "output_type": "execute_result",
          "data": {
            "text/plain": [
              "array([[  1,   2,   3],\n",
              "       [ 10,  11,  12],\n",
              "       [ -5,  -8, -14]])"
            ]
          },
          "metadata": {},
          "execution_count": 3
        }
      ]
    },
    {
      "cell_type": "code",
      "source": [
        "# Las operaciones aritmeticas se aplican a todos los elementos de la matriz\n",
        "m1*200"
      ],
      "metadata": {
        "colab": {
          "base_uri": "https://localhost:8080/"
        },
        "id": "UfNlpXto4Roj",
        "outputId": "1dfd06f8-dccf-497a-a4d2-fec2a18aa826"
      },
      "execution_count": 4,
      "outputs": [
        {
          "output_type": "execute_result",
          "data": {
            "text/plain": [
              "array([[  200,   400,   600],\n",
              "       [ 2000,  2200,  2400],\n",
              "       [-1000, -1600, -2800]])"
            ]
          },
          "metadata": {},
          "execution_count": 4
        }
      ]
    },
    {
      "cell_type": "code",
      "source": [
        "#Aplicar la operacion a un elemento\n",
        "m1[1] + 15"
      ],
      "metadata": {
        "colab": {
          "base_uri": "https://localhost:8080/"
        },
        "id": "x903qjjn4ZtA",
        "outputId": "d8d4eb3c-a92d-4490-9ea9-9ce58d8d30ee"
      },
      "execution_count": 5,
      "outputs": [
        {
          "output_type": "execute_result",
          "data": {
            "text/plain": [
              "array([25, 26, 27])"
            ]
          },
          "metadata": {},
          "execution_count": 5
        }
      ]
    },
    {
      "cell_type": "code",
      "source": [
        "m1 / 5.45"
      ],
      "metadata": {
        "colab": {
          "base_uri": "https://localhost:8080/"
        },
        "id": "LoT9mIkM40RY",
        "outputId": "780f70f5-2794-4064-eac1-138e93669276"
      },
      "execution_count": 6,
      "outputs": [
        {
          "output_type": "execute_result",
          "data": {
            "text/plain": [
              "array([[ 0.18348624,  0.36697248,  0.55045872],\n",
              "       [ 1.83486239,  2.01834862,  2.20183486],\n",
              "       [-0.91743119, -1.46788991, -2.56880734]])"
            ]
          },
          "metadata": {},
          "execution_count": 6
        }
      ]
    },
    {
      "cell_type": "code",
      "source": [
        "#Usar operadores logicos por broadcasting\n",
        "m1 > 1"
      ],
      "metadata": {
        "colab": {
          "base_uri": "https://localhost:8080/"
        },
        "id": "ekvxh3Ve44NB",
        "outputId": "d68a07ef-d700-47a6-a898-e4a186cf3e68"
      },
      "execution_count": 7,
      "outputs": [
        {
          "output_type": "execute_result",
          "data": {
            "text/plain": [
              "array([[False,  True,  True],\n",
              "       [ True,  True,  True],\n",
              "       [False, False, False]])"
            ]
          },
          "metadata": {},
          "execution_count": 7
        }
      ]
    },
    {
      "cell_type": "code",
      "source": [
        "m2 = np.array([1,2,3])\n",
        "m3 = np.array([[2],[4],[6]])\n",
        "\n",
        "print(m2)\n",
        "print(m2.shape)\n",
        "\n",
        "print(m3)\n",
        "print(m3.shape)"
      ],
      "metadata": {
        "colab": {
          "base_uri": "https://localhost:8080/"
        },
        "id": "_SVv_5Io5G-o",
        "outputId": "1e2854b5-0a39-4db9-926b-a2d1d7d15bb3"
      },
      "execution_count": 8,
      "outputs": [
        {
          "output_type": "stream",
          "name": "stdout",
          "text": [
            "[1 2 3]\n",
            "(3,)\n",
            "[[2]\n",
            " [4]\n",
            " [6]]\n",
            "(3, 1)\n"
          ]
        }
      ]
    },
    {
      "cell_type": "code",
      "source": [
        "m1 * m2"
      ],
      "metadata": {
        "colab": {
          "base_uri": "https://localhost:8080/"
        },
        "id": "ipkscHFg5uTQ",
        "outputId": "11d2cbb4-3d2d-48b6-b090-f2eeb2263cf7"
      },
      "execution_count": 9,
      "outputs": [
        {
          "output_type": "execute_result",
          "data": {
            "text/plain": [
              "array([[  1,   4,   9],\n",
              "       [ 10,  22,  36],\n",
              "       [ -5, -16, -42]])"
            ]
          },
          "metadata": {},
          "execution_count": 9
        }
      ]
    },
    {
      "cell_type": "code",
      "source": [
        "m1 / m3"
      ],
      "metadata": {
        "colab": {
          "base_uri": "https://localhost:8080/"
        },
        "id": "0MkUse3w5xYA",
        "outputId": "d93ceb28-4344-4720-e175-2ed073ef6333"
      },
      "execution_count": 10,
      "outputs": [
        {
          "output_type": "execute_result",
          "data": {
            "text/plain": [
              "array([[ 0.5       ,  1.        ,  1.5       ],\n",
              "       [ 2.5       ,  2.75      ,  3.        ],\n",
              "       [-0.83333333, -1.33333333, -2.33333333]])"
            ]
          },
          "metadata": {},
          "execution_count": 10
        }
      ]
    },
    {
      "cell_type": "code",
      "source": [
        "m4 = m1 + 20\n",
        "m4"
      ],
      "metadata": {
        "colab": {
          "base_uri": "https://localhost:8080/"
        },
        "id": "RF12Vci16AGI",
        "outputId": "ad1c88be-8275-4508-be08-d01f1eab8cba"
      },
      "execution_count": 11,
      "outputs": [
        {
          "output_type": "execute_result",
          "data": {
            "text/plain": [
              "array([[21, 22, 23],\n",
              "       [30, 31, 32],\n",
              "       [15, 12,  6]])"
            ]
          },
          "metadata": {},
          "execution_count": 11
        }
      ]
    },
    {
      "cell_type": "code",
      "source": [
        "m1 * m4"
      ],
      "metadata": {
        "colab": {
          "base_uri": "https://localhost:8080/"
        },
        "id": "yNpeNPke6F5J",
        "outputId": "95a787c7-05ff-4b31-cf56-840dd8eab99d"
      },
      "execution_count": 12,
      "outputs": [
        {
          "output_type": "execute_result",
          "data": {
            "text/plain": [
              "array([[ 21,  44,  69],\n",
              "       [300, 341, 384],\n",
              "       [-75, -96, -84]])"
            ]
          },
          "metadata": {},
          "execution_count": 12
        }
      ]
    },
    {
      "cell_type": "code",
      "source": [
        "#Generar arreglos con valores aleatorios\n",
        "np.random.rand(2,2,2)"
      ],
      "metadata": {
        "colab": {
          "base_uri": "https://localhost:8080/"
        },
        "id": "43dCWoa-6eHJ",
        "outputId": "801db721-c49b-4a48-d6f3-24e493cc8727"
      },
      "execution_count": 13,
      "outputs": [
        {
          "output_type": "execute_result",
          "data": {
            "text/plain": [
              "array([[[0.18977121, 0.2050741 ],\n",
              "        [0.42001397, 0.93518045]],\n",
              "\n",
              "       [[0.04398465, 0.19930898],\n",
              "        [0.31617447, 0.03479915]]])"
            ]
          },
          "metadata": {},
          "execution_count": 13
        }
      ]
    },
    {
      "cell_type": "code",
      "source": [
        "# randint genera valores enteros aleatorios entre un rango\n",
        "np.random.randint(1,4,(2,2,2))"
      ],
      "metadata": {
        "colab": {
          "base_uri": "https://localhost:8080/"
        },
        "id": "cquwOtz06zcX",
        "outputId": "272167bc-d8e6-4e74-9f81-bcd602cc0dee"
      },
      "execution_count": 15,
      "outputs": [
        {
          "output_type": "execute_result",
          "data": {
            "text/plain": [
              "array([[[3, 3],\n",
              "        [3, 3]],\n",
              "\n",
              "       [[3, 1],\n",
              "        [3, 1]]])"
            ]
          },
          "metadata": {},
          "execution_count": 15
        }
      ]
    },
    {
      "cell_type": "code",
      "source": [
        "np.random.randint(0,256,(3,2,4))"
      ],
      "metadata": {
        "colab": {
          "base_uri": "https://localhost:8080/"
        },
        "id": "xqkJNa947SI5",
        "outputId": "35609dd1-c82e-434b-dec8-892215fc750a"
      },
      "execution_count": 16,
      "outputs": [
        {
          "output_type": "execute_result",
          "data": {
            "text/plain": [
              "array([[[220,  16,  29, 114],\n",
              "        [114, 190, 158,  71]],\n",
              "\n",
              "       [[218, 180, 224, 119],\n",
              "        [172,  41, 124, 118]],\n",
              "\n",
              "       [[162, 211, 122, 191],\n",
              "        [ 43,  62, 126, 252]]])"
            ]
          },
          "metadata": {},
          "execution_count": 16
        }
      ]
    },
    {
      "cell_type": "code",
      "source": [
        "numeros = np.array([[2.43, -3, 48.9999, -5.61],\n",
        "                   [np.inf, -np.inf, np.inf, np.inf],\n",
        "                   [np.nan, 17.78, 12, 22]])\n",
        "numeros"
      ],
      "metadata": {
        "colab": {
          "base_uri": "https://localhost:8080/"
        },
        "id": "-KMZVu5N7qP5",
        "outputId": "ad6eefe1-a104-4e44-80f8-4a975968b8e6"
      },
      "execution_count": 17,
      "outputs": [
        {
          "output_type": "execute_result",
          "data": {
            "text/plain": [
              "array([[ 2.43  , -3.    , 48.9999, -5.61  ],\n",
              "       [    inf,    -inf,     inf,     inf],\n",
              "       [    nan, 17.78  , 12.    , 22.    ]])"
            ]
          },
          "metadata": {},
          "execution_count": 17
        }
      ]
    },
    {
      "cell_type": "code",
      "source": [
        "# Funciones de valor\n",
        "print(np.abs(numeros))\n",
        "print(np.floor(numeros))\n",
        "print(np.ceil(numeros))\n",
        "print(np.round(numeros))"
      ],
      "metadata": {
        "colab": {
          "base_uri": "https://localhost:8080/"
        },
        "id": "69dLKOnD8j0J",
        "outputId": "c49d8e3f-36c8-447c-da5c-b3e3218ecba0"
      },
      "execution_count": 18,
      "outputs": [
        {
          "output_type": "stream",
          "name": "stdout",
          "text": [
            "[[ 2.43    3.     48.9999  5.61  ]\n",
            " [    inf     inf     inf     inf]\n",
            " [    nan 17.78   12.     22.    ]]\n",
            "[[  2.  -3.  48.  -6.]\n",
            " [ inf -inf  inf  inf]\n",
            " [ nan  17.  12.  22.]]\n",
            "[[  3.  -3.  49.  -5.]\n",
            " [ inf -inf  inf  inf]\n",
            " [ nan  18.  12.  22.]]\n",
            "[[  2.  -3.  49.  -6.]\n",
            " [ inf -inf  inf  inf]\n",
            " [ nan  18.  12.  22.]]\n"
          ]
        }
      ]
    },
    {
      "cell_type": "code",
      "source": [
        "#Funciones de evaluacion de arreglos\n",
        "print(np.isfinite(numeros))\n",
        "print(np.isnan(numeros))\n",
        "print(np.isreal(numeros))\n",
        "print(np.isscalar(numeros))"
      ],
      "metadata": {
        "colab": {
          "base_uri": "https://localhost:8080/"
        },
        "id": "BKRT_4AL9avK",
        "outputId": "6720d683-e5eb-4ce5-ef16-4fb491e6de10"
      },
      "execution_count": 19,
      "outputs": [
        {
          "output_type": "stream",
          "name": "stdout",
          "text": [
            "[[ True  True  True  True]\n",
            " [False False False False]\n",
            " [False  True  True  True]]\n",
            "[[False False False False]\n",
            " [False False False False]\n",
            " [ True False False False]]\n",
            "[[ True  True  True  True]\n",
            " [ True  True  True  True]\n",
            " [ True  True  True  True]]\n",
            "False\n"
          ]
        }
      ]
    },
    {
      "cell_type": "markdown",
      "source": [
        "## Funciones estadísticas.\n",
        "\n",
        "* ```np.amax()```\n",
        "* ```np amin()```\n",
        "* ```np.argmax()```\n",
        "* ```np.argmin()```\n",
        "* ```np.average()```\n",
        "* ```np.correlate()```\n",
        "* ```np.corrcoef()```\n",
        "* ```np.count_nonzero()```\n",
        "* ```np.cov()```\n",
        "* ```np.cumprod()```\n",
        "* ```np.cumsum()```\n",
        "* ```np.histogram()```\n",
        "* ```np.histogram2d()```\n",
        "* ```np.histogram_bin_edges()```\n",
        "* ```np.histogramdd()```\n",
        "* ```np.max()```\n",
        "* ```np.mean()```\n",
        "* ```np.median()```\n",
        "* ```np.min()```\n",
        "* ```np.nanargmax()```\n",
        "* ```np.nanargmin()```\n",
        "* ```np.nancumprod()```\n",
        "* ```np.nancumsum()```\n",
        "* ```np.nanmax()```\n",
        "* ```np.nanmean()```\n",
        "* ```np.nanmedian()```\n",
        "* ```np.nanmin()```\n",
        "* ```np.nanpercentile()```\n",
        "* ```np.nanquantile()```\n",
        "* ```np.nanstd()```\n",
        "* ```np.nansum()```\n",
        "* ```np.nanvar()```\n",
        "* ```np.percentile()```\n",
        "* ```np.quantile()```\n",
        "* ```np.std()```\n",
        "* ```np.var()```\n"
      ],
      "metadata": {
        "id": "8jNs0Y9M-OkA"
      }
    },
    {
      "cell_type": "code",
      "source": [
        "numeros = np.random.randint(0,256,(3,2,4))\n",
        "numeros"
      ],
      "metadata": {
        "colab": {
          "base_uri": "https://localhost:8080/"
        },
        "id": "jrizCcP9-zl_",
        "outputId": "0080e1a4-3670-42f8-f43d-a2fe8dc74838"
      },
      "execution_count": 21,
      "outputs": [
        {
          "output_type": "execute_result",
          "data": {
            "text/plain": [
              "array([[[134,  12,  86, 101],\n",
              "        [230, 120, 250, 166]],\n",
              "\n",
              "       [[165,  19,  99,  98],\n",
              "        [ 14, 211,  79,  85]],\n",
              "\n",
              "       [[205, 137, 210, 117],\n",
              "        [ 11,  33,  93, 192]]])"
            ]
          },
          "metadata": {},
          "execution_count": 21
        }
      ]
    },
    {
      "cell_type": "code",
      "source": [
        "print(np.max(numeros))\n",
        "print(np.mean(numeros))\n",
        "print(np.min(numeros))"
      ],
      "metadata": {
        "colab": {
          "base_uri": "https://localhost:8080/"
        },
        "id": "lzhitGoA-ClP",
        "outputId": "4ef6d852-8265-49df-f361-e3badfd31db8"
      },
      "execution_count": 22,
      "outputs": [
        {
          "output_type": "stream",
          "name": "stdout",
          "text": [
            "250\n",
            "119.45833333333333\n",
            "11\n"
          ]
        }
      ]
    },
    {
      "cell_type": "code",
      "source": [
        "print(np.nanmax(numeros))\n",
        "print(np.nanmean(numeros))\n",
        "print(np.nanmin(numeros))\n",
        "print(np.nanmedian(numeros))"
      ],
      "metadata": {
        "colab": {
          "base_uri": "https://localhost:8080/"
        },
        "id": "jLtrtExk-Qb-",
        "outputId": "8fedb08b-8003-44a9-e821-bb544b9e190e"
      },
      "execution_count": 24,
      "outputs": [
        {
          "output_type": "stream",
          "name": "stdout",
          "text": [
            "250\n",
            "119.45833333333333\n",
            "11\n",
            "109.0\n"
          ]
        }
      ]
    },
    {
      "cell_type": "code",
      "source": [
        "np.histogram(numeros)"
      ],
      "metadata": {
        "colab": {
          "base_uri": "https://localhost:8080/"
        },
        "id": "wvTBxnfg_ZPb",
        "outputId": "5363daf9-44a3-4817-b35d-e63ac0ae2c6f"
      },
      "execution_count": 25,
      "outputs": [
        {
          "output_type": "execute_result",
          "data": {
            "text/plain": [
              "(array([5, 0, 1, 6, 2, 2, 2, 1, 3, 2]),\n",
              " array([ 11. ,  34.9,  58.8,  82.7, 106.6, 130.5, 154.4, 178.3, 202.2,\n",
              "        226.1, 250. ]))"
            ]
          },
          "metadata": {},
          "execution_count": 25
        }
      ]
    },
    {
      "cell_type": "markdown",
      "source": [
        "## Funciones de valor\n",
        "* ```np.abs()```\n",
        "* ```np.around()```\n",
        "* ```np.ceil()```\n",
        "* ```np.exp()```\n",
        "* ```np.exp2()```\n",
        "* ```np.fabs()```\n",
        "* ```np.fix()```\n",
        "* ```np.floor()```\n",
        "* ```np.log()```\n",
        "* ```np.log10()```\n",
        "* ```np.log1p()```\n",
        "* ```np.log2()```\n",
        "* ```np.logaddexp()```\n",
        "* ```np.logaddexp2()```\n",
        "* ```np.round()```\n"
      ],
      "metadata": {
        "id": "aqkwBSn0_qZG"
      }
    },
    {
      "cell_type": "code",
      "source": [
        "# Copia y ordenamiento\n",
        "numeros1 = numeros # Alias de un arreglo\n",
        "numeros1 = np.copy(numeros) #Copia del arreglo\n",
        "numeros1 "
      ],
      "metadata": {
        "colab": {
          "base_uri": "https://localhost:8080/"
        },
        "id": "SvWZ160R_ohG",
        "outputId": "82385899-633a-41d5-c7cf-fb6d710d7370"
      },
      "execution_count": 26,
      "outputs": [
        {
          "output_type": "execute_result",
          "data": {
            "text/plain": [
              "array([[[134,  12,  86, 101],\n",
              "        [230, 120, 250, 166]],\n",
              "\n",
              "       [[165,  19,  99,  98],\n",
              "        [ 14, 211,  79,  85]],\n",
              "\n",
              "       [[205, 137, 210, 117],\n",
              "        [ 11,  33,  93, 192]]])"
            ]
          },
          "metadata": {},
          "execution_count": 26
        }
      ]
    },
    {
      "cell_type": "code",
      "source": [
        "numeros1.sort()\n",
        "numeros1"
      ],
      "metadata": {
        "colab": {
          "base_uri": "https://localhost:8080/"
        },
        "id": "omMbp8epAZyg",
        "outputId": "c63e2842-d531-487f-f41a-d202e1f25712"
      },
      "execution_count": 27,
      "outputs": [
        {
          "output_type": "execute_result",
          "data": {
            "text/plain": [
              "array([[[ 12,  86, 101, 134],\n",
              "        [120, 166, 230, 250]],\n",
              "\n",
              "       [[ 19,  98,  99, 165],\n",
              "        [ 14,  79,  85, 211]],\n",
              "\n",
              "       [[117, 137, 205, 210],\n",
              "        [ 11,  33,  93, 192]]])"
            ]
          },
          "metadata": {},
          "execution_count": 27
        }
      ]
    },
    {
      "cell_type": "code",
      "source": [
        "numeros1.sort(axis=2)\n",
        "numeros1"
      ],
      "metadata": {
        "colab": {
          "base_uri": "https://localhost:8080/"
        },
        "id": "-vrG4OJXAiRe",
        "outputId": "1767810a-e822-48d2-b1b9-317ecaedf833"
      },
      "execution_count": 29,
      "outputs": [
        {
          "output_type": "execute_result",
          "data": {
            "text/plain": [
              "array([[[ 12,  86, 101, 134],\n",
              "        [120, 166, 230, 250]],\n",
              "\n",
              "       [[ 14,  79,  85, 165],\n",
              "        [ 19,  98,  99, 211]],\n",
              "\n",
              "       [[ 11,  33,  93, 192],\n",
              "        [117, 137, 205, 210]]])"
            ]
          },
          "metadata": {},
          "execution_count": 29
        }
      ]
    },
    {
      "cell_type": "code",
      "source": [
        "a = np.array([1,2,3])\n",
        "b = np.array([(1,2,3),(4,5,6)])\n",
        "print(a)\n",
        "print(b)\n",
        "print(np.add(a,b))"
      ],
      "metadata": {
        "colab": {
          "base_uri": "https://localhost:8080/"
        },
        "id": "MJ3M2B59BalP",
        "outputId": "3950d944-bcb1-423c-fe51-1c3cf7849793"
      },
      "execution_count": 30,
      "outputs": [
        {
          "output_type": "stream",
          "name": "stdout",
          "text": [
            "[1 2 3]\n",
            "[[1 2 3]\n",
            " [4 5 6]]\n",
            "[[2 4 6]\n",
            " [5 7 9]]\n"
          ]
        }
      ]
    },
    {
      "cell_type": "code",
      "source": [
        "#Suma total de los elementos\n",
        "b.sum()"
      ],
      "metadata": {
        "colab": {
          "base_uri": "https://localhost:8080/"
        },
        "id": "LhaIY2g-B8MO",
        "outputId": "2f8e9a33-603c-40d6-a057-135640b70d7b"
      },
      "execution_count": 31,
      "outputs": [
        {
          "output_type": "execute_result",
          "data": {
            "text/plain": [
              "21"
            ]
          },
          "metadata": {},
          "execution_count": 31
        }
      ]
    },
    {
      "cell_type": "code",
      "source": [
        "#Raiz cuadrada\n",
        "np.sqrt(b)"
      ],
      "metadata": {
        "colab": {
          "base_uri": "https://localhost:8080/"
        },
        "id": "eshqZtXuCQHV",
        "outputId": "183b0735-9339-4f7f-b16c-6e8f70332b46"
      },
      "execution_count": 32,
      "outputs": [
        {
          "output_type": "execute_result",
          "data": {
            "text/plain": [
              "array([[1.        , 1.41421356, 1.73205081],\n",
              "       [2.        , 2.23606798, 2.44948974]])"
            ]
          },
          "metadata": {},
          "execution_count": 32
        }
      ]
    },
    {
      "cell_type": "code",
      "source": [
        "# Crear un arreglo con los resultados de una comparacion logica\n",
        "c = b <= 4\n",
        "c"
      ],
      "metadata": {
        "colab": {
          "base_uri": "https://localhost:8080/"
        },
        "id": "RwnJCtDfChCx",
        "outputId": "1b8912d3-4d28-4e51-80b7-751dc23e9f21"
      },
      "execution_count": 33,
      "outputs": [
        {
          "output_type": "execute_result",
          "data": {
            "text/plain": [
              "array([[ True,  True,  True],\n",
              "       [ True, False, False]])"
            ]
          },
          "metadata": {},
          "execution_count": 33
        }
      ]
    }
  ]
}